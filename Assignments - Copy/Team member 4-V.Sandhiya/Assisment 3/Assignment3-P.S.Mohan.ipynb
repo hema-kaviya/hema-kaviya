{
 "cells": [
  {
   "cell_type": "markdown",
   "id": "29ed0910",
   "metadata": {},
   "source": [
    "# IMAGE AUGMENTATION"
   ]
  },
  {
   "cell_type": "code",
   "execution_count": 3,
   "id": "b554fc31",
   "metadata": {},
   "outputs": [],
   "source": [
    "from tensorflow.keras.preprocessing.image import ImageDataGenerator\n",
    "from PIL import Image\n",
    "import scipy"
   ]
  },
  {
   "cell_type": "code",
   "execution_count": 4,
   "id": "10eb80b8",
   "metadata": {},
   "outputs": [],
   "source": [
    "train_datagen=ImageDataGenerator(rescale=1./255, zoom_range=0.2,horizontal_flip=True,vertical_flip=False)"
   ]
  },
  {
   "cell_type": "code",
   "execution_count": 5,
   "id": "374e4a9e",
   "metadata": {},
   "outputs": [],
   "source": [
    "test_datagen=ImageDataGenerator(rescale=1./255)"
   ]
  },
  {
   "cell_type": "code",
   "execution_count": 6,
   "id": "4a5aa1ea",
   "metadata": {},
   "outputs": [
    {
     "name": "stdout",
     "output_type": "stream",
     "text": [
      "Found 4317 images belonging to 5 classes.\n"
     ]
    }
   ],
   "source": [
    "x_train=train_datagen.flow_from_directory(r\"C:\\Users\\Dell\\PycharmProjects\\ibm-projectfiles\\flowers\",target_size=(64,64),class_mode='categorical',batch_size=24)"
   ]
  },
  {
   "cell_type": "code",
   "execution_count": 7,
   "id": "bce84929",
   "metadata": {},
   "outputs": [
    {
     "name": "stdout",
     "output_type": "stream",
     "text": [
      "Found 4317 images belonging to 5 classes.\n"
     ]
    }
   ],
   "source": [
    "x_test=test_datagen.flow_from_directory(r\"C:\\Users\\Dell\\PycharmProjects\\ibm-projectfiles\\flowers\",target_size=(64,64),class_mode='categorical',batch_size=24)"
   ]
  },
  {
   "cell_type": "code",
   "execution_count": 8,
   "id": "3b54ca51",
   "metadata": {},
   "outputs": [
    {
     "data": {
      "text/plain": [
       "{'daisy': 0, 'dandelion': 1, 'rose': 2, 'sunflower': 3, 'tulip': 4}"
      ]
     },
     "execution_count": 8,
     "metadata": {},
     "output_type": "execute_result"
    }
   ],
   "source": [
    "x_train.class_indices"
   ]
  },
  {
   "cell_type": "markdown",
   "id": "2fe3ef33",
   "metadata": {},
   "source": [
    "# INITIALIZING CNN AND CREATE MODEL"
   ]
  },
  {
   "cell_type": "code",
   "execution_count": 9,
   "id": "c210939f",
   "metadata": {},
   "outputs": [],
   "source": [
    "from tensorflow.keras.models import Sequential\n",
    "from tensorflow.keras.layers import Dense,Convolution2D,MaxPooling2D,Flatten"
   ]
  },
  {
   "cell_type": "markdown",
   "id": "5af4542c",
   "metadata": {},
   "source": [
    "# ADD LAYERS"
   ]
  },
  {
   "cell_type": "code",
   "execution_count": 10,
   "id": "1a5cb552",
   "metadata": {},
   "outputs": [],
   "source": [
    "model=Sequential()"
   ]
  },
  {
   "cell_type": "markdown",
   "id": "c4db46d2",
   "metadata": {},
   "source": [
    "# INPUT LAYERS (CONVOLUTION ,MAXPOOLING,FLATTEN)"
   ]
  },
  {
   "cell_type": "code",
   "execution_count": 11,
   "id": "22d7fc9c",
   "metadata": {},
   "outputs": [],
   "source": [
    "model.add(Convolution2D(32,(3,3),input_shape=(64,64,3),activation='relu'))"
   ]
  },
  {
   "cell_type": "code",
   "execution_count": 12,
   "id": "82953fc9",
   "metadata": {},
   "outputs": [],
   "source": [
    "model.add(MaxPooling2D(pool_size=(2,2)))"
   ]
  },
  {
   "cell_type": "code",
   "execution_count": 13,
   "id": "c9234a07",
   "metadata": {},
   "outputs": [],
   "source": [
    "model.add(Flatten())"
   ]
  },
  {
   "cell_type": "code",
   "execution_count": 14,
   "id": "293bceb3",
   "metadata": {},
   "outputs": [
    {
     "name": "stdout",
     "output_type": "stream",
     "text": [
      "Model: \"sequential\"\n",
      "_________________________________________________________________\n",
      " Layer (type)                Output Shape              Param #   \n",
      "=================================================================\n",
      " conv2d (Conv2D)             (None, 62, 62, 32)        896       \n",
      "                                                                 \n",
      " max_pooling2d (MaxPooling2D  (None, 31, 31, 32)       0         \n",
      " )                                                               \n",
      "                                                                 \n",
      " flatten (Flatten)           (None, 30752)             0         \n",
      "                                                                 \n",
      "=================================================================\n",
      "Total params: 896\n",
      "Trainable params: 896\n",
      "Non-trainable params: 0\n",
      "_________________________________________________________________\n"
     ]
    }
   ],
   "source": [
    "model.summary()"
   ]
  },
  {
   "cell_type": "markdown",
   "id": "acbea21f",
   "metadata": {},
   "source": [
    "# HIDDEN LAYERS"
   ]
  },
  {
   "cell_type": "code",
   "execution_count": 15,
   "id": "0865157e",
   "metadata": {},
   "outputs": [],
   "source": [
    "model.add(Dense(300,activation='relu'))\n",
    "model.add(Dense(150,activation='relu'))"
   ]
  },
  {
   "cell_type": "markdown",
   "id": "73fcd848",
   "metadata": {},
   "source": [
    "# OUTPUT LAYERS"
   ]
  },
  {
   "cell_type": "code",
   "execution_count": 16,
   "id": "f0d35dd5",
   "metadata": {},
   "outputs": [],
   "source": [
    "model.add(Dense(5,activation='softmax'))"
   ]
  },
  {
   "cell_type": "code",
   "execution_count": 17,
   "id": "3d17952c",
   "metadata": {},
   "outputs": [],
   "source": [
    "model.compile(loss='categorical_crossentropy',optimizer='adam',metrics=['accuracy'])"
   ]
  },
  {
   "cell_type": "code",
   "execution_count": 18,
   "id": "71d482fd",
   "metadata": {},
   "outputs": [
    {
     "data": {
      "text/plain": [
       "180"
      ]
     },
     "execution_count": 18,
     "metadata": {},
     "output_type": "execute_result"
    }
   ],
   "source": [
    "len(x_train)"
   ]
  },
  {
   "cell_type": "markdown",
   "id": "aef8286a",
   "metadata": {},
   "source": [
    "# TRAIN THE MODEL"
   ]
  },
  {
   "cell_type": "code",
   "execution_count": 19,
   "id": "259b9946",
   "metadata": {},
   "outputs": [
    {
     "name": "stderr",
     "output_type": "stream",
     "text": [
      "C:\\Users\\Dell\\AppData\\Local\\Temp\\ipykernel_13588\\3822225211.py:1: UserWarning: `Model.fit_generator` is deprecated and will be removed in a future version. Please use `Model.fit`, which supports generators.\n",
      "  model.fit_generator(x_train,steps_per_epoch=len(x_train), validation_data=x_test, validation_steps=len(x_test), epochs= 30)\n"
     ]
    },
    {
     "name": "stdout",
     "output_type": "stream",
     "text": [
      "Epoch 1/30\n",
      "180/180 [==============================] - 59s 324ms/step - loss: 1.3304 - accuracy: 0.4656 - val_loss: 1.1759 - val_accuracy: 0.5119\n",
      "Epoch 2/30\n",
      "180/180 [==============================] - 37s 204ms/step - loss: 1.0613 - accuracy: 0.5719 - val_loss: 0.9958 - val_accuracy: 0.6090\n",
      "Epoch 3/30\n",
      "180/180 [==============================] - 37s 204ms/step - loss: 0.9628 - accuracy: 0.6280 - val_loss: 0.9222 - val_accuracy: 0.6310\n",
      "Epoch 4/30\n",
      "180/180 [==============================] - 81s 453ms/step - loss: 0.8872 - accuracy: 0.6583 - val_loss: 0.8400 - val_accuracy: 0.6873\n",
      "Epoch 5/30\n",
      "180/180 [==============================] - 32s 175ms/step - loss: 0.8313 - accuracy: 0.6817 - val_loss: 0.7703 - val_accuracy: 0.6982\n",
      "Epoch 6/30\n",
      "180/180 [==============================] - 32s 175ms/step - loss: 0.7571 - accuracy: 0.7160 - val_loss: 0.8335 - val_accuracy: 0.6919\n",
      "Epoch 7/30\n",
      "180/180 [==============================] - 38s 208ms/step - loss: 0.7302 - accuracy: 0.7278 - val_loss: 0.6824 - val_accuracy: 0.7406\n",
      "Epoch 8/30\n",
      "180/180 [==============================] - 34s 190ms/step - loss: 0.6682 - accuracy: 0.7433 - val_loss: 0.6415 - val_accuracy: 0.7579\n",
      "Epoch 9/30\n",
      "180/180 [==============================] - 35s 192ms/step - loss: 0.6360 - accuracy: 0.7593 - val_loss: 0.5899 - val_accuracy: 0.7748\n",
      "Epoch 10/30\n",
      "180/180 [==============================] - 37s 205ms/step - loss: 0.6031 - accuracy: 0.7779 - val_loss: 0.5688 - val_accuracy: 0.7867\n",
      "Epoch 11/30\n",
      "180/180 [==============================] - 37s 206ms/step - loss: 0.5528 - accuracy: 0.7920 - val_loss: 0.5298 - val_accuracy: 0.7999\n",
      "Epoch 12/30\n",
      "180/180 [==============================] - 38s 213ms/step - loss: 0.5266 - accuracy: 0.8036 - val_loss: 0.4875 - val_accuracy: 0.8216\n",
      "Epoch 13/30\n",
      "180/180 [==============================] - 40s 223ms/step - loss: 0.4710 - accuracy: 0.8244 - val_loss: 0.3977 - val_accuracy: 0.8545\n",
      "Epoch 14/30\n",
      "180/180 [==============================] - 37s 204ms/step - loss: 0.4572 - accuracy: 0.8339 - val_loss: 0.3443 - val_accuracy: 0.8805\n",
      "Epoch 15/30\n",
      "180/180 [==============================] - 33s 186ms/step - loss: 0.4404 - accuracy: 0.8385 - val_loss: 0.3241 - val_accuracy: 0.8865\n",
      "Epoch 16/30\n",
      "180/180 [==============================] - 40s 224ms/step - loss: 0.3962 - accuracy: 0.8534 - val_loss: 0.3086 - val_accuracy: 0.8909\n",
      "Epoch 17/30\n",
      "180/180 [==============================] - 39s 216ms/step - loss: 0.3749 - accuracy: 0.8631 - val_loss: 0.3248 - val_accuracy: 0.8795\n",
      "Epoch 18/30\n",
      "180/180 [==============================] - 38s 212ms/step - loss: 0.3312 - accuracy: 0.8800 - val_loss: 0.2361 - val_accuracy: 0.9222\n",
      "Epoch 19/30\n",
      "180/180 [==============================] - 38s 209ms/step - loss: 0.3155 - accuracy: 0.8830 - val_loss: 0.2159 - val_accuracy: 0.9284\n",
      "Epoch 20/30\n",
      "180/180 [==============================] - 37s 208ms/step - loss: 0.3138 - accuracy: 0.8879 - val_loss: 0.2100 - val_accuracy: 0.9280\n",
      "Epoch 21/30\n",
      "180/180 [==============================] - 36s 203ms/step - loss: 0.2905 - accuracy: 0.8902 - val_loss: 0.1868 - val_accuracy: 0.9358\n",
      "Epoch 22/30\n",
      "180/180 [==============================] - 31s 170ms/step - loss: 0.2897 - accuracy: 0.9020 - val_loss: 0.1553 - val_accuracy: 0.9500\n",
      "Epoch 23/30\n",
      "180/180 [==============================] - 30s 166ms/step - loss: 0.2602 - accuracy: 0.9143 - val_loss: 0.1516 - val_accuracy: 0.9474\n",
      "Epoch 24/30\n",
      "180/180 [==============================] - 33s 183ms/step - loss: 0.2086 - accuracy: 0.9280 - val_loss: 0.1440 - val_accuracy: 0.9532\n",
      "Epoch 25/30\n",
      "180/180 [==============================] - 33s 186ms/step - loss: 0.2183 - accuracy: 0.9238 - val_loss: 0.2480 - val_accuracy: 0.9145\n",
      "Epoch 26/30\n",
      "180/180 [==============================] - 33s 182ms/step - loss: 0.1992 - accuracy: 0.9335 - val_loss: 0.1656 - val_accuracy: 0.9465\n",
      "Epoch 27/30\n",
      "180/180 [==============================] - 33s 185ms/step - loss: 0.2076 - accuracy: 0.9273 - val_loss: 0.1522 - val_accuracy: 0.9497\n",
      "Epoch 28/30\n",
      "180/180 [==============================] - 34s 190ms/step - loss: 0.2219 - accuracy: 0.9261 - val_loss: 0.1534 - val_accuracy: 0.9504\n",
      "Epoch 29/30\n",
      "180/180 [==============================] - 35s 197ms/step - loss: 0.1702 - accuracy: 0.9400 - val_loss: 0.1536 - val_accuracy: 0.9493\n",
      "Epoch 30/30\n",
      "180/180 [==============================] - 33s 184ms/step - loss: 0.1653 - accuracy: 0.9460 - val_loss: 0.1536 - val_accuracy: 0.9437\n"
     ]
    },
    {
     "data": {
      "text/plain": [
       "<keras.callbacks.History at 0x1e0c1135570>"
      ]
     },
     "execution_count": 19,
     "metadata": {},
     "output_type": "execute_result"
    }
   ],
   "source": [
    "model.fit_generator(x_train,steps_per_epoch=len(x_train), validation_data=x_test, validation_steps=len(x_test), epochs= 30)"
   ]
  },
  {
   "cell_type": "markdown",
   "id": "fdd1c55c",
   "metadata": {},
   "source": [
    "# SAVE THE MODEL"
   ]
  },
  {
   "cell_type": "code",
   "execution_count": 21,
   "id": "cf56669a",
   "metadata": {},
   "outputs": [],
   "source": [
    "model.save('Flowers_classification_model1.h5')"
   ]
  },
  {
   "cell_type": "markdown",
   "id": "b5848b91",
   "metadata": {},
   "source": [
    "# TEST THE MODEL"
   ]
  },
  {
   "cell_type": "code",
   "execution_count": 22,
   "id": "d4057da4",
   "metadata": {},
   "outputs": [],
   "source": [
    "import numpy as np\n",
    "from tensorflow.keras.models import load_model\n",
    "from tensorflow.keras.preprocessing import image"
   ]
  },
  {
   "cell_type": "code",
   "execution_count": 23,
   "id": "61f654e9",
   "metadata": {},
   "outputs": [],
   "source": [
    "# Load the model\n",
    "model=load_model('Flowers_classification_model1.h5')"
   ]
  },
  {
   "cell_type": "code",
   "execution_count": 24,
   "id": "d4579b55",
   "metadata": {},
   "outputs": [
    {
     "name": "stdout",
     "output_type": "stream",
     "text": [
      "1/1 [==============================] - 0s 170ms/step\n"
     ]
    },
    {
     "data": {
      "text/plain": [
       "'rose'"
      ]
     },
     "execution_count": 24,
     "metadata": {},
     "output_type": "execute_result"
    }
   ],
   "source": [
    "img=image.load_img(r\"C:\\Users\\Dell\\PycharmProjects\\ibm-projectfiles\\rose.jpg\",target_size=(64,64))"
   ]
  },
  {
   "cell_type": "code",
   "execution_count": 26,
   "id": "840bc5b5",
   "metadata": {},
   "outputs": [
    {
     "data": {
      "image/png": "[encoded data removed]",
      "text/plain": [
       "<PIL.Image.Image image mode=RGB size=64x64>"
      ]
     },
     "execution_count": 26,
     "metadata": {},
     "output_type": "execute_result"
    }
   ],
   "source": [
    "img"
   ]
  },
  {
   "cell_type": "code",
   "execution_count": 27,
   "id": "448781ac",
   "metadata": {},
   "outputs": [
    {
     "name": "stdout",
     "output_type": "stream",
     "text": [
      "1/1 [==============================] - 0s 26ms/step\n"
     ]
    },
    {
     "data": {
      "text/plain": [
       "'rose'"
      ]
     },
     "execution_count": 27,
     "metadata": {},
     "output_type": "execute_result"
    }
   ],
   "source": [
    "x=image.img_to_array(img)\n",
    "x=np.expand_dims(x,axis=0)\n",
    "y=np.argmax(model.predict(x),axis=1)\n",
    "# x_train.class_indices\n",
    "index=['daisy','dandelion','rose','sunflower','tulip']\n",
    "index[y[0]]"
   ]
  },
  {
   "cell_type": "code",
   "execution_count": null,
   "id": "0510da7a",
   "metadata": {},
   "outputs": [],
   "source": []
  }
 ],
 "metadata": {
  "kernelspec": {
   "display_name": "Python 3 (ipykernel)",
   "language": "python",
   "name": "python3"
  },
  "language_info": {
   "codemirror_mode": {
    "name": "ipython",
    "version": 3
   },
   "file_extension": ".py",
   "mimetype": "text/x-python",
   "name": "python",
   "nbconvert_exporter": "python",
   "pygments_lexer": "ipython3",
   "version": "3.10.8"
  }
 },
 "nbformat": 4,
 "nbformat_minor": 5
}
