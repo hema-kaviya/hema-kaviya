{
 "cells": [
  {
   "cell_type": "code",
   "execution_count": 122,
   "id": "378f68c9",
   "metadata": {},
   "outputs": [],
   "source": [
    "#Importing the Keras libraries and packages\n",
    "from tensorflow.keras.models import load_model\n",
    "from PIL import Image #used for manipulating image uploaded by the user.\n",
    "import numpy as np #used for numerrical analysis\n",
    "model = load_model(r'C:\\Users\\Dell\\PycharmProjects\\A-novel-method-for-digit-recognition-system\\models\\mnistCNN.h5')"
   ]
  },
  {
   "cell_type": "code",
   "execution_count": 150,
   "id": "702f200d",
   "metadata": {},
   "outputs": [],
   "source": [
    "img = Image.open('data/mnist-dataset-9.png').convert(\"L\") # convert image to monochrome\n",
    "img = img.resize( (28, 28) ) # resizing of input image\n",
    "im2arr = np.array(img) #converting to image\n",
    "im2arr = im2arr.reshape(1, 28, 28, 1) #reshaping according to our requirement"
   ]
  },
  {
   "cell_type": "code",
   "execution_count": 151,
   "id": "ca155615",
   "metadata": {},
   "outputs": [
    {
     "name": "stdout",
     "output_type": "stream",
     "text": [
      "1/1 [==============================] - 0s 16ms/step\n",
      "[[6.4446344e-06 3.2608074e-07 1.1842946e-08 2.8603116e-02 1.8055276e-03\n",
      "  1.3790357e-06 4.7502824e-09 1.9600012e-04 2.0712865e-05 9.6936649e-01]]\n"
     ]
    }
   ],
   "source": [
    "# Predicting the Test set results\n",
    "y_pred = model.predict(im2arr) #predicting the results\n",
    "print(y_pred)"
   ]
  },
  {
   "cell_type": "code",
   "execution_count": 152,
   "id": "f904396d",
   "metadata": {},
   "outputs": [
    {
     "name": "stdout",
     "output_type": "stream",
     "text": [
      "[9]\n"
     ]
    }
   ],
   "source": [
    "import numpy as np\n",
    "print(np.argmax(y_pred, axis=1)) #printing our Labels from first 4 images"
   ]
  },
  {
   "cell_type": "code",
   "execution_count": null,
   "id": "f7899457",
   "metadata": {},
   "outputs": [],
   "source": []
  }
 ],
 "metadata": {
  "kernelspec": {
   "display_name": "Python 3 (ipykernel)",
   "language": "python",
   "name": "python3"
  },
  "language_info": {
   "codemirror_mode": {
    "name": "ipython",
    "version": 3
   },
   "file_extension": ".py",
   "mimetype": "text/x-python",
   "name": "python",
   "nbconvert_exporter": "python",
   "pygments_lexer": "ipython3",
   "version": "3.10.8"
  }
 },
 "nbformat": 4,
 "nbformat_minor": 5
}
